{
 "cells": [
  {
   "cell_type": "markdown",
   "id": "df22e40d",
   "metadata": {},
   "source": [
    "I will review Janice's assignment 1:\n",
    "https://github.com/clv-techlead/algorithms_and_data_structures/pull/1\n",
    "\n",
    "-   Paraphrase the problem in your own words."
   ]
  },
  {
   "cell_type": "markdown",
   "id": "967adca3",
   "metadata": {},
   "source": [
    "You’re given a string made up only of the six bracket characters ()[]{}. Decide whether it’s well-formed: every opening bracket must be matched by the same type of closing bracket, and brackets must close in the correct, nested order (no crossing or leftover opens). Return True if the whole string is well-formed; otherwise return False."
   ]
  },
  {
   "cell_type": "markdown",
   "id": "9800de36",
   "metadata": {},
   "source": [
    "\n",
    "-   Create 1 new example that demonstrates you understand the problem. Trace/walkthrough 1 example that your partner made and explain it.\n"
   ]
  },
  {
   "cell_type": "markdown",
   "id": "8ba65667",
   "metadata": {},
   "source": [
    "My examples:\n",
    "\n",
    "Input: s = \"(}[}])\"\n",
    "\n",
    "Output: False\n",
    "\n",
    "Input: s = \"{[([]{})]}\"\n",
    "\n",
    "Output: True\n",
    "\n",
    "Janice's example:\n",
    "\n",
    "examples.append({\"input\": \"({[]})\", \"expected_output\": True})\n",
    "\n",
    "String: \"({[]})\"\n",
    "\n",
    "As per Stack data structure for this problem, we can check every step to confirm this string in the desired function is True or False\n",
    "\n",
    "( is an opener → push → stack = [(]\n",
    "\n",
    "{ is an opener → push → stack = [(, {]\n",
    "\n",
    "[ is an opener → push → stack = [(, {, []\n",
    "\n",
    "] is a closer → pop top [ → matches pairs[']'] == '[' → stack = [(, {]\n",
    "\n",
    "} is a closer → pop top { → matches pairs['}'] == '{' → stack = [(]\n",
    "\n",
    ") is a closer → pop top ( → matches pairs[')'] == '(' → stack = []\n",
    "\n",
    "So stack became empty, and the function result will be True\n"
   ]
  },
  {
   "cell_type": "markdown",
   "id": "2e9e6870",
   "metadata": {},
   "source": [
    "-   Copy the solution your partner wrote. "
   ]
  },
  {
   "cell_type": "code",
   "execution_count": 1,
   "id": "40c40606",
   "metadata": {},
   "outputs": [],
   "source": [
    "# Your answer here\n",
    "def is_valid_brackets(s: str) -> bool:\n",
    "    stack = []\n",
    "    bracket_map = {')': '(', '}': '{', ']': '['}\n",
    "\n",
    "    for char in s:\n",
    "        if char in bracket_map.values():  # It's an opening bracket\n",
    "            stack.append(char)\n",
    "        elif char in bracket_map.keys():  # It's a closing bracket\n",
    "            if not stack:  # Stack is empty, no matching opening bracket\n",
    "                return False\n",
    "            top_element = stack.pop()\n",
    "            if bracket_map[char] != top_element:  # Mismatch in opening and closing brackets\n",
    "                return False\n",
    "        # Ignore any other characters\n",
    "\n",
    "    return not stack  # Stack should be empty if all brackets are matched\n"
   ]
  },
  {
   "cell_type": "markdown",
   "id": "7e909070",
   "metadata": {},
   "source": [
    "-   Explain why their solution works in your own words."
   ]
  },
  {
   "cell_type": "markdown",
   "id": "b694cb95",
   "metadata": {},
   "source": [
    "Why it works\n",
    "\n",
    "Core idea (stack): The algorithm keeps a stack of unclosed opening brackets.\n",
    "\n",
    "When it sees an opening bracket ((, {, [), it pushes it onto the stack.\n",
    "\n",
    "When it sees a closing bracket (), }, ]), it pops the most recent opener and checks that the types match using bracket_map.\n",
    "\n",
    "Type matching: bracket_map = {')':'(', ']':'[', '}':'{'} guarantees a closer only matches the correct opener. If the popped opener doesn’t equal bracket_map[closer], the sequence is invalid → False.\n",
    "\n",
    "Order (nesting) correctness: Because the stack always compares a closer with the most recent unmatched opener, it enforces proper nesting (e.g., [(]) fails when ] tries to close ().\n",
    "\n",
    "Early failure checks:\n",
    "\n",
    "If a closer appears when the stack is empty, there’s nothing to match → False.\n",
    "\n",
    "If a type mismatch happens, return False immediately.\n",
    "\n",
    "Complete matching at the end: After scanning all chars, return not stack ensures no opener is left unmatched. Empty stack ⇒ every opener had a matching closer ⇒ valid.\n",
    "\n",
    "Edge cases handled:\n",
    "\n",
    "\"\" (empty string) → stack stays empty → True (commonly accepted).\n",
    "\n",
    "\")(\" or \")\" → detects empty stack on a closer → False.\n",
    "\n",
    "\"(((\" → leftover openers make not stack false → False.\n",
    "\n",
    "Non-bracket characters are ignored by design (though the prompt says only brackets will appear).\n",
    "\n",
    "That’s why the solution correctly recognizes valid bracket sequences."
   ]
  },
  {
   "cell_type": "markdown",
   "id": "1e2ac2a5",
   "metadata": {},
   "source": [
    "\n",
    "-   Explain the problem’s time and space complexity in your own words."
   ]
  },
  {
   "cell_type": "markdown",
   "id": "3a8c0e9e",
   "metadata": {},
   "source": [
    "--Time Complexity\n",
    "\n",
    "Worst / Average case: O(n), where n is the length of the string.\n",
    "\n",
    "Each character is examined once.\n",
    "\n",
    "Stack operations (append, pop) are O(1).\n",
    "\n",
    "Dictionary lookups (bracket_map[char], char in bracket_map) are O(1) on average.\n",
    "\n",
    "Best case: O(1) early exit (e.g., first char is a closing bracket on an empty stack).\n",
    "\n",
    "--Space Complexity\n",
    "\n",
    "Worst case: O(n) — if the string is all opening brackets, the stack can grow to size n.\n",
    "\n",
    "Best case: O(1) — immediate failure (e.g., starts with a closer) or an empty string."
   ]
  },
  {
   "cell_type": "markdown",
   "id": "a7dbb23c",
   "metadata": {},
   "source": [
    "\n",
    "-   Critique your partner's solution, including explanation, and if there is anything that should be adjusted."
   ]
  },
  {
   "cell_type": "markdown",
   "id": "6c76fadb",
   "metadata": {},
   "source": [
    "--What’s good\n",
    "\n",
    "Uses the right idea: a stack to match brackets.\n",
    "\n",
    "Runs in O(n) time and uses O(n) space worst-case.\n",
    "\n",
    "Clean mapping bracket_map = {')':'(', ']':'[', '}':'{'} and a neat final check return not stack.\n",
    "\n",
    "Stops early on mistakes (mismatch or empty stack) — efficient.\n",
    "\n",
    "--What to tweak and adjust\n",
    "\n",
    "Be clear about non-bracket characters: either reject them or say you’re ignoring them.\n",
    "\n",
    "Use elif char in bracket_map: (simpler than .keys()).\n",
    "\n",
    "Define openers = set(bracket_map.values()) once, use it in the loop."
   ]
  },
  {
   "cell_type": "markdown",
   "id": "9bc06e08",
   "metadata": {},
   "source": [
    "((Reflection))"
   ]
  },
  {
   "cell_type": "markdown",
   "id": "6d4c7846",
   "metadata": {},
   "source": [
    "Today I reviewed Janice’s Assignment 1 solution and focused on explaining both correctness and opportunities for polish. I began by restating the specification in my own words and then made the core invariant explicit: the stack holds unmatched opening brackets, and every closing bracket must match the most recent opener. To demonstrate correctness, I walked through the example “({[]})” step by step, showing each push and pop and confirming the stack is empty at the end. I contrasted that with a failing case like “[(])”, which exposes crossing pairs and triggers a mismatch when popping. I then discussed complexity: O(n) time because each character is processed once with O(1) stack and dictionary operations, and O(n) worst-case space for the stack if many openers appear consecutively. My suggested tweaks were minimal and practical: use elif ch in bracket_map instead of .keys(), precompute openers = set(bracket_map.values()) for clarity, decide whether to reject or ignore any non-bracket characters, add a short docstring, and include edge tests (empty string, lone closer, leftover openers). Overall, pairing concrete examples with the invariant made the feedback clear and respectful, and reinforced my own ability to reason about stack-based validation problems."
   ]
  }
 ],
 "metadata": {
  "kernelspec": {
   "display_name": "dsi_participant",
   "language": "python",
   "name": "python3"
  },
  "language_info": {
   "codemirror_mode": {
    "name": "ipython",
    "version": 3
   },
   "file_extension": ".py",
   "mimetype": "text/x-python",
   "name": "python",
   "nbconvert_exporter": "python",
   "pygments_lexer": "ipython3",
   "version": "3.9.19"
  }
 },
 "nbformat": 4,
 "nbformat_minor": 5
}
